{
 "cells": [
  {
   "cell_type": "markdown",
   "metadata": {},
   "source": [
    "# <font color='blue'>Data Science Academy - Python Fundamentos - Capítulo 6</font>\n",
    "\n",
    "## Download: http://github.com/dsacademybr"
   ]
  },
  {
   "cell_type": "markdown",
   "metadata": {},
   "source": [
    "### O que são Bancos de Dados?"
   ]
  },
  {
   "cell_type": "markdown",
   "metadata": {},
   "source": [
    "Bancos de dados são coleções de dados interligados entre si e organizados para fornecer informações.\n",
    "\n",
    "É uma coleção de dados inter-relacionados, representando informações sobre um domínio específico."
   ]
  },
  {
   "cell_type": "markdown",
   "metadata": {},
   "source": [
    "#### Dados x Informações"
   ]
  },
  {
   "cell_type": "markdown",
   "metadata": {},
   "source": [
    "Dados são fatos brutos, em sua forma primária, dados podem não fazer sentindo quando analisados de forma isolada.\n",
    "\n",
    "Já informação consiste no agrupamento de dados de forma organizada, para fazer um sentido. Os dados são a base da piramide na hierarquia DIKW.\n",
    "\n",
    "https://pt.wikipedia.org/wiki/Hierarquia_DIKW\n",
    "\n",
    "![alt text](https://upload.wikimedia.org/wikipedia/commons/thumb/0/06/DIKW_Pyramid.svg/330px-DIKW_Pyramid.svg.png)\n",
    "\n",
    "Para transformar dados em informações, são aplicadas análise e transformações nos dados armazenados em bases de dados, afim de dar sentido aos dados ou agrupalos de forma a gerar informações."
   ]
  },
  {
   "cell_type": "markdown",
   "metadata": {},
   "source": [
    "### SGBD"
   ]
  },
  {
   "cell_type": "markdown",
   "metadata": {},
   "source": [
    "SGBD - Sistema de Gerenciamento de Bancos de Dados\n",
    "\n",
    "ou\n",
    "\n",
    "DBMS - Database Management System\n",
    "\n",
    "Um Sistema de Gerenciamento de Banco de Dados (SGBD) é o conjunto de programas de computador (softwares) responsáveis pelo gerenciamento de uma base de dados.\n",
    "\n",
    "O principal objetivo de um SGBD e retirar da aplicação cliente a responsabilidade de gerenciar o acesso, a manipulação e a organização dos dados. O SGBD disponibiliza uma interface para os seus clientes possam incluir, alterar ou consultar os dados previamente armazenados. Em bancos de dados relacionais a interface de acesso ao SGBD é feito na linguagem SQL. O principal software do mercado é o banco de dados Oracle.\n",
    "\n",
    "Por que usar um SGBD?\n",
    "\n",
    "- Controlar redundância\n",
    "- Compartilhamento de dados\n",
    "- Independência de dados\n",
    "- Segurança\n",
    "- Backup e recuperação a falhas\n",
    "- Aumentar a produtividade e disponibilidade\n",
    "- Flexibilidade e padronização\n",
    "\n",
    "Onde encontramos SGBD's?\n",
    "\n",
    "- Data Minig\n",
    "- Datawarehousing e OLAP (On-Line Analytical Processing)\n",
    "- Banco de Dados Multimídia\n",
    "- Banco de Dados Espaciais e Temporais\n",
    "- Banco de Dados Móveis\n",
    "- Bancos de Dados Semiestruturados\n",
    "- Novas Aplicações de Bancos de Dados: Bibliotecas Digitais, Comércio Eletrônico, Telecomunicações, etc.\n",
    "- Uma das Fontes do Big Data"
   ]
  },
  {
   "cell_type": "markdown",
   "metadata": {},
   "source": [
    "### Bancos de Dados Relacionais"
   ]
  },
  {
   "cell_type": "markdown",
   "metadata": {},
   "source": [
    "Bancos de dados relacionais tem sido o principal modelo para gestão de bancos de dados nas últimas décadas.\n",
    "\n",
    "Bancos de dados relacionais representam e armazenam os dados em tabelas organizadas em linhas e colunas, eles são baseados em um ramo da teoria dos conjuntos algébricos conhecido como algebrarelacional.\n",
    "\n",
    "Bancos de dados relacionais são gerenciados por RDBMS (Relational Database Management System). Em um banco de dados relacional todos os dados são guardados em tabelas, que por sua vez é um conjunto de linhas e colunas. São os relacionamentos entre as tabelas que tornam o banco relacional.\n",
    "\n",
    "Um banco de dados relacional pode ser percebido externamente como uma coleção de tabelas. Esses bancos usam linguagem SQL. As tabelas se conectam entre chaves.\n",
    "\n",
    "- Entidades (tabelas) e atributos\n",
    "- Registros (Tuplas)\n",
    "- Chaves (primária e estrangeira)\n",
    "- Relacionamentos entre entidades (tabelas)\n",
    "- Integridade Referencial\n",
    "- Normalização"
   ]
  },
  {
   "cell_type": "markdown",
   "metadata": {},
   "source": [
    "## Principais Conceitos de Bancos de Dados Relacionais"
   ]
  },
  {
   "cell_type": "markdown",
   "metadata": {},
   "source": [
    "- Entidades (tabelas) e atributos\n",
    "- Registros (Tuplas)\n",
    "- Chaves (primária e estrangeira)\n",
    "- Relacionamentos entre entidades (tabelas)\n",
    "- Integridade Referencial\n",
    "- Normalização\n",
    "\n",
    "Os dados de um banco de dados relacional são armazenados em **tabelas**. Que foram definidas durante a faze de modelagem.\n",
    "\n",
    "Cada linha formada por uma lista ordenada de colunas representa um **registro**, ou tupla, dentro da tabela. Não devemos confundir com os objetos tuplas do Python.\n",
    "\n",
    "As colunas de uma tabela são também chamadas de **atributos**, e ao conjunto de valores que um atributo pode assumir chamamos de domínio.\n",
    "\n",
    "Um conceito importante em um banco de dados relacional é o conceito de atributo **chave**, que permite identificar e diferenciar uma tupla de outra. As tabelas reacionam-se umas as outras através de chaves, uma chave é um conjunto de um ou mais atributos que determinam a unicidade de cada registro.\n",
    "\n",
    "Chave Primária (PK) - coluna(s) que garente(m) a unicidade das linhas. É a chave principal de uma tabela. Uma tabela só pode ter uma Chave Primária. Uma tabela só pode ter uma chave primária, mas uma chave primária pode ser composta por uma ou mais colunas.\n",
    "\n",
    "Chave Estrangeira (FK) - coluna(s) de uma tabela que contém valores da PK de outra tabela. Uma tabela pode ter mais de uma Chave Estrangeira.\n",
    "\n",
    "As chaves garantem o relacionamento entre as tabelas.\n",
    "\n",
    "Índices\n",
    "\n",
    "É uma lista ordenada de valores que apontam para os dados nas tabelas. Utilizado para agilizar a leitura de dados. Pode ser utilizado também para forçar a unicidade dos dados.\n",
    "\n",
    "Integridade Referencial\n",
    "\n",
    "É o conceito em que várias tabelas de banco de dados compartilham uma relação com base nos dados armazenados nas tabelas e essa relação deve ser coerente. Isso geralmente é imposto com ações de adição, exclusão e atualização em cascata. Isso impossibilita registros orfãos dentro do banco de dados.\n",
    "\n",
    "Normalização\n",
    "\n",
    "Normalização de dados é o processo de organização de campos e tabelas de um banco de dados relacional para minimizar a redundância e a dependência."
   ]
  },
  {
   "cell_type": "markdown",
   "metadata": {},
   "source": [
    "### Linguagem SQL"
   ]
  },
  {
   "cell_type": "markdown",
   "metadata": {},
   "source": [
    "Comandos da linguagem SQL (Structured Query Language) são divididos em três grupos principais:\n",
    "\n",
    "DDL - Data Definition Language (Suporte)\n",
    "\n",
    "    - CREATE : definição de um objeto (tabela, índice)\n",
    "    - ALTER : alteração de um objeto\n",
    "    - DROP : eliminação de um objeto\n",
    "\n",
    "DML - Data Manipulation Language (Desenvolvimento)\n",
    "\n",
    "    - SELECT : pesquisa de dados\n",
    "    - UPDATE : atualização de dados\n",
    "    - DELETE : eliminação de dados\n",
    "    - INSERT : inserção de dados\n",
    "\n",
    "DCL - Data Control Language (Suporte/Desenvolvimento)\n",
    "\n",
    "    - GRANT : fornecer um privilégio\n",
    "    - REVOKE : tirar um privilégio"
   ]
  },
  {
   "cell_type": "markdown",
   "metadata": {},
   "source": [
    "## SQLite"
   ]
  },
  {
   "cell_type": "markdown",
   "metadata": {},
   "source": [
    "SQLite é um engine (motor) de banco de dados SQL. Este é uma versão simplificada o que proporciona um ganho em performance. Basicamente todo o banco de dados SQLite é contido em um único arquivo, não há necessidade de criar usuários, ou esquemas de acesso, bem como, também não hé controles avançados como em bancos de dados comuns. Se o SQLite é somente um arquivo porque não utilizar um arquivo comum ao invés de SQLite?\n",
    "\n",
    "Porque um arquivo comum carregaria todos os registros para memória enquanto o SQLite carrega apenas os registros que estão sendo usados.\n",
    "\n",
    "Não requer um processo servidor dedicado.\n",
    "\n",
    "Configuração zero, o que significa que nenhuma configuração ou administração é necessária.\n",
    "\n",
    "Um banco de dados SQLite completo é armazenado em um único arquivo multiplataforma.\n",
    "\n",
    "SQLite é pequeno e leve, menos de 400 Kb quando totalmente configurado.\n",
    "\n",
    "O SQLite está disponivel para diversas plataformas, como Unix, Linux, Mac OSX, Android, iOS e Windows.\n",
    "\n",
    "O SQLite pode ser usado, quando recursos avançados de SQBD's não forem necessários, como por exemplo para aplicações que executem em um smartphone. Ele é instalado automaticamente quando instalamos o Anaconda.\n",
    "\n",
    "O código do SQLite, totalmente escrito em liguagem C, é de domínio público e pode ser usado livremente, inclusive para uso comercial e privado.\n",
    "\n",
    "O SQLite é amplamente utilizado na internet e em smartphone. Ao contrário de outros bancos de dados, o SQLite não requer um processo ou serviço sendo executado em um servidor. Todo acesso ao banco de dados é feito através de leitura/escrita aos arquivos do banco de dados, acesso este feito pelas bibliotecas do SQLite. Todos os objetos do banco de dados, como tabelas índices, triggers e views ficam armazenados no mesmo arquivo. Por ser amplamente testado antes de cada release, o SQLite é considerado bastante confiável. \n",
    "\n",
    "E qual o uso apropriado do SQLite?\n",
    "\n",
    "- Dispositivos embarcados (como em sistemas de Internet das Coisas - Iot)\n",
    "- Websites\n",
    "- Análise de Dados\n",
    "- Cache para dados de RDBMS\n",
    "- Bancos de Dados temporários ou internos\n",
    "\n",
    "E quando não é apropriado usar SQLite?\n",
    "\n",
    "- Aplicações Cliente/Servidor\n",
    "- Websites com alto volume de tráfego\n",
    "- Análise de datasets muito grandes\n",
    "- Alta concorrência é requerida\n",
    "- Armazenar Big Data\n",
    "\n",
    "Site oficial para download e docuemtnoação do SQLite.\n",
    "\n",
    "https://www.sqlite.org"
   ]
  },
  {
   "cell_type": "code",
   "execution_count": 1,
   "metadata": {},
   "outputs": [
    {
     "name": "stdout",
     "output_type": "stream",
     "text": [
      "Versão da Linguagem Python Usada Neste Jupyter Notebook: 3.8.3\n"
     ]
    }
   ],
   "source": [
    "# Versão da Linguagem Python\n",
    "from platform import python_version\n",
    "print('Versão da Linguagem Python Usada Neste Jupyter Notebook:', python_version())"
   ]
  },
  {
   "cell_type": "markdown",
   "metadata": {},
   "source": [
    "Documentação SQLite: http://www.sqlite.org/docs.html"
   ]
  },
  {
   "cell_type": "markdown",
   "metadata": {},
   "source": [
    "### Acessando Banco de Dados com Python"
   ]
  },
  {
   "cell_type": "code",
   "execution_count": 2,
   "metadata": {},
   "outputs": [],
   "source": [
    "# Remove o arquivo com o banco de dados SQLite (caso exista)\n",
    "import os\n",
    "os.remove('escola.db') if os.path.exists('escola.db') else None"
   ]
  },
  {
   "cell_type": "code",
   "execution_count": 3,
   "metadata": {},
   "outputs": [],
   "source": [
    "# Importando o módulo de acesso ao SQLite\n",
    "import sqlite3"
   ]
  },
  {
   "cell_type": "code",
   "execution_count": 4,
   "metadata": {},
   "outputs": [],
   "source": [
    "# Cria uma conexão com o banco de dados.\n",
    "# Se o banco de dados não existir, ele é criado neste momento.\n",
    "con = sqlite3.connect('escola.db')"
   ]
  },
  {
   "cell_type": "code",
   "execution_count": 5,
   "metadata": {},
   "outputs": [
    {
     "data": {
      "text/plain": [
       "sqlite3.Connection"
      ]
     },
     "execution_count": 5,
     "metadata": {},
     "output_type": "execute_result"
    }
   ],
   "source": [
    "type(con)"
   ]
  },
  {
   "cell_type": "code",
   "execution_count": 6,
   "metadata": {},
   "outputs": [],
   "source": [
    "# Criando um cursor\n",
    "# (Um corsor permite percorrer todos os registros em um conjunto de dados)\n",
    "\n",
    "cur = con.cursor()"
   ]
  },
  {
   "cell_type": "code",
   "execution_count": 7,
   "metadata": {},
   "outputs": [
    {
     "data": {
      "text/plain": [
       "sqlite3.Cursor"
      ]
     },
     "execution_count": 7,
     "metadata": {},
     "output_type": "execute_result"
    }
   ],
   "source": [
    "type(cur)"
   ]
  },
  {
   "cell_type": "code",
   "execution_count": 8,
   "metadata": {},
   "outputs": [],
   "source": [
    "# Cria uma instrução sql\n",
    "sql_create = 'create table cursos '\\\n",
    "'(id integer primary key, '\\\n",
    "'titulo varchar(100), '\\\n",
    "'categoria varchar(140))'"
   ]
  },
  {
   "cell_type": "code",
   "execution_count": 9,
   "metadata": {},
   "outputs": [
    {
     "data": {
      "text/plain": [
       "<sqlite3.Cursor at 0x2606a999180>"
      ]
     },
     "execution_count": 9,
     "metadata": {},
     "output_type": "execute_result"
    }
   ],
   "source": [
    "# Executando a instrução sql\n",
    "cur.execute(sql_create)"
   ]
  },
  {
   "cell_type": "code",
   "execution_count": 10,
   "metadata": {},
   "outputs": [],
   "source": [
    "# Criando outra sentença SQL para inserir registros\n",
    "sql_insert = 'insert into cursos values (?, ?, ?)'"
   ]
  },
  {
   "cell_type": "code",
   "execution_count": 11,
   "metadata": {},
   "outputs": [],
   "source": [
    "# Dados\n",
    "recset = [(1000, 'Ciência de Dados', 'Data Science'),\n",
    "          (1001, 'Big Data Fundamentos', 'Big Data'),\n",
    "          (1002, 'Python Fundamentos', 'Análise de Dados')]"
   ]
  },
  {
   "cell_type": "code",
   "execution_count": 12,
   "metadata": {},
   "outputs": [],
   "source": [
    "# Inserindo os registros\n",
    "for rec in recset:\n",
    "    cur.execute(sql_insert, rec)"
   ]
  },
  {
   "cell_type": "code",
   "execution_count": 13,
   "metadata": {},
   "outputs": [],
   "source": [
    "# Grava a transação\n",
    "con.commit()"
   ]
  },
  {
   "cell_type": "code",
   "execution_count": 14,
   "metadata": {},
   "outputs": [],
   "source": [
    "# Criando outra sentença SQL para selecionar registros\n",
    "sql_select = 'select * from cursos'"
   ]
  },
  {
   "cell_type": "code",
   "execution_count": 15,
   "metadata": {},
   "outputs": [],
   "source": [
    "# Seleciona todos os registros e recupera os registros\n",
    "cur.execute(sql_select)\n",
    "dados = cur.fetchall()"
   ]
  },
  {
   "cell_type": "code",
   "execution_count": 16,
   "metadata": {},
   "outputs": [
    {
     "name": "stdout",
     "output_type": "stream",
     "text": [
      "Curso Id: 1000, Título: Ciência de Dados, Categoria: Data Science \n",
      "\n",
      "Curso Id: 1001, Título: Big Data Fundamentos, Categoria: Big Data \n",
      "\n",
      "Curso Id: 1002, Título: Python Fundamentos, Categoria: Análise de Dados \n",
      "\n"
     ]
    }
   ],
   "source": [
    "# Mostra\n",
    "for linha in dados:\n",
    "    print ('Curso Id: %d, Título: %s, Categoria: %s \\n' % linha)"
   ]
  },
  {
   "cell_type": "code",
   "execution_count": 17,
   "metadata": {},
   "outputs": [],
   "source": [
    "# Gerando outros registros\n",
    "recset = [(1003, 'Gestão de Dados com MongoDB', 'Big Data'),\n",
    "          (1004, 'R Fundamentos', 'Análise de Dados')]\n",
    "\n",
    "# Inserindo os registros\n",
    "for rec in recset:\n",
    "    cur.execute(sql_insert, rec)\n",
    "    \n",
    "# Gravando a transação \n",
    "con.commit()"
   ]
  },
  {
   "cell_type": "code",
   "execution_count": 18,
   "metadata": {},
   "outputs": [
    {
     "name": "stdout",
     "output_type": "stream",
     "text": [
      "Curso Id: 1000, Título: Ciência de Dados, Categoria: Data Science \n",
      "\n",
      "Curso Id: 1001, Título: Big Data Fundamentos, Categoria: Big Data \n",
      "\n",
      "Curso Id: 1002, Título: Python Fundamentos, Categoria: Análise de Dados \n",
      "\n",
      "Curso Id: 1003, Título: Gestão de Dados com MongoDB, Categoria: Big Data \n",
      "\n",
      "Curso Id: 1004, Título: R Fundamentos, Categoria: Análise de Dados \n",
      "\n"
     ]
    }
   ],
   "source": [
    "# Seleciona todos os registros\n",
    "cur.execute('select * from cursos')\n",
    "\n",
    "# Recupera os resultados\n",
    "recset = cur.fetchall()\n",
    "\n",
    "# Mostra\n",
    "for rec in recset:\n",
    "    print ('Curso Id: %d, Título: %s, Categoria: %s \\n' % rec)"
   ]
  },
  {
   "cell_type": "code",
   "execution_count": 19,
   "metadata": {},
   "outputs": [],
   "source": [
    "# Fecha a conexão\n",
    "con.close()"
   ]
  },
  {
   "cell_type": "markdown",
   "metadata": {},
   "source": [
    "### Criando nosso segundo banco de dados"
   ]
  },
  {
   "cell_type": "code",
   "execution_count": 1,
   "metadata": {},
   "outputs": [],
   "source": [
    "# Remove o arquivo com o banco de dados SQLite (caso exista)\n",
    "import os\n",
    "os.remove(\"dsa.db\") if os.path.exists(\"dsa.db\") else None"
   ]
  },
  {
   "cell_type": "code",
   "execution_count": 5,
   "metadata": {},
   "outputs": [],
   "source": [
    "import sqlite3\n",
    "\n",
    "#criando uma conexão\n",
    "conn = sqlite3.connect('dsa.db')\n",
    "\n",
    "# Criando um cursor\n",
    "c = conn.cursor()\n",
    "\n",
    "# Função para inserir uma tabela\n",
    "def create_table():\n",
    "    c.execute('CREATE TABLE IF NOT EXISTS produtos(id INTEGER PRIMARY KEY AUTOINCREMENT NOT NULL, date TEXT, '\\\n",
    "              'prod_name TEXT, valor REAL)')\n",
    "\n",
    "# Função para inserir uma linha\n",
    "def data_insert():\n",
    "    c.execute('INSERT INTO produtos VALUES(10, \"2018-05-02 14:32:11\", \"Teclado\", 90 )')\n",
    "    conn.commit()\n",
    "    c.close()\n",
    "    conn.close()"
   ]
  },
  {
   "cell_type": "code",
   "execution_count": 6,
   "metadata": {},
   "outputs": [],
   "source": [
    "# Criar tabela\n",
    "create_table()"
   ]
  },
  {
   "cell_type": "code",
   "execution_count": 7,
   "metadata": {},
   "outputs": [],
   "source": [
    "# Inserir dados\n",
    "data_insert()"
   ]
  },
  {
   "cell_type": "markdown",
   "metadata": {},
   "source": [
    "### Automatizando os comando SQL"
   ]
  },
  {
   "cell_type": "markdown",
   "metadata": {},
   "source": [
    "### Inserindo dados com Variáveis"
   ]
  },
  {
   "cell_type": "code",
   "execution_count": 16,
   "metadata": {},
   "outputs": [],
   "source": [
    "import sqlite3\n",
    "import random\n",
    "import time\n",
    "import datetime\n",
    "\n",
    "# Criando uma conexão\n",
    "conn = sqlite3.connect('dsa.db')\n",
    "\n",
    "# Criando um cursor\n",
    "c = conn.cursor()\n",
    "\n",
    "# Função para criar uma tabela\n",
    "def create_table():\n",
    "    c.execute('CREATE TABLE IF NOT EXISTS produtos(id INTEGER PRIMARY KEY AUTOINCREMENT NOT NULL, date TEXT, '\\\n",
    "              'prod_name TEXT, valor REAL)')\n",
    "\n",
    "# Função para inserir uma linha\n",
    "def data_insert():\n",
    "    c.execute('INSERT INTO produtos VALUES(10, \"2018-05-02 14:32:11\", \"Teclado\", 90 )')\n",
    "    conn.commit()\n",
    "    c.close()\n",
    "    conn.close()\n",
    "\n",
    "# Usando variáveis para inserir dados\n",
    "def data_insert_var():\n",
    "    new_date = datetime.datetime.now()\n",
    "    new_prod_name = 'Monitor'\n",
    "    new_valor = random.randrange(50,100)\n",
    "    c.execute('INSERT INTO produtos (date, prod_name, valor) VALUES (?, ?, ?)', (new_date, new_prod_name, new_valor))\n",
    "    conn.commit()"
   ]
  },
  {
   "cell_type": "code",
   "execution_count": 17,
   "metadata": {},
   "outputs": [],
   "source": [
    "# Gerendo valores e inserindo na tabela\n",
    "for i in range(10):\n",
    "    data_insert_var()\n",
    "    \n",
    "    # Esse comando vai incluir um segunda entre cada execução\n",
    "    time.sleep(1)"
   ]
  },
  {
   "cell_type": "code",
   "execution_count": 18,
   "metadata": {},
   "outputs": [],
   "source": [
    "# Encerrando a conexão\n",
    "c.close()\n",
    "conn.close()"
   ]
  },
  {
   "cell_type": "markdown",
   "metadata": {},
   "source": [
    "### Leitura de dados"
   ]
  },
  {
   "cell_type": "code",
   "execution_count": 19,
   "metadata": {},
   "outputs": [],
   "source": [
    "import sqlite3\n",
    "import random\n",
    "import time\n",
    "import datetime\n",
    "\n",
    "# Criando uma conexão\n",
    "conn = sqlite3.connect('dsa.db')\n",
    "\n",
    "# Criando um cursor\n",
    "c = conn.cursor()\n",
    "\n",
    "# Função para criar uma tabela\n",
    "def create_table():\n",
    "    c.execute('CREATE TABLE IF NOT EXISTS produtos(id INTEGER PRIMARY KEY AUTOINCREMENT NOT NULL, date TEXT, '\\\n",
    "              'prod_name TEXT, valor REAL)')\n",
    "\n",
    "# Função para inserir uma linha\n",
    "def data_insert():\n",
    "    c.execute('INSERT INTO produtos VALUES(10, \"2018-05-02 14:32:11\", \"Teclado\", 130 )')\n",
    "    conn.commit()\n",
    "    c.close()\n",
    "    conn.close()\n",
    "\n",
    "# Usando variáveis para inserir dados\n",
    "def data_insert_var():\n",
    "    new_date = datetime.datetime.now()\n",
    "    new_prod_name = 'Monitor'\n",
    "    new_valor = random.randrange(50,100)\n",
    "    c.execute('INSERT INTO produtos (date, prod_name, valor) VALUES (?, ?, ?)',\n",
    "              (new_date, new_prod_name, new_valor))\n",
    "    conn.commit()\n",
    "    \n",
    "# Leitura de dados\n",
    "def leitura_todos_dados():\n",
    "    c.execute('SELECT * FROM PRODUTOS')\n",
    "    for linha in c.fetchall():\n",
    "        print(linha)\n",
    "\n",
    "# Leitura de resgistros específicos\n",
    "def leitura_registros():\n",
    "    c.execute('SELECT * FROM PRODUTOS WHERE valor > 60.0')\n",
    "    for linha in c.fetchall():\n",
    "        print(linha)\n",
    "        \n",
    "# Leitura de colunas específicas\n",
    "def leitura_colunas():\n",
    "    c.execute('SELECT * FROM PRODUTOS')\n",
    "    for linha in c.fetchall():\n",
    "        # lembrando que a coluna numero 4 será lida, pois ela possui indice 3\n",
    "        print(linha[3])"
   ]
  },
  {
   "cell_type": "code",
   "execution_count": 20,
   "metadata": {},
   "outputs": [
    {
     "name": "stdout",
     "output_type": "stream",
     "text": [
      "(10, '2018-05-02 14:32:11', 'Teclado', 90.0)\n",
      "(11, '2020-11-16 21:20:19.599683', 'Monitor', 59.0)\n",
      "(12, '2020-11-16 21:20:20.611523', 'Monitor', 71.0)\n",
      "(13, '2020-11-16 21:20:21.625544', 'Monitor', 77.0)\n",
      "(14, '2020-11-16 21:20:22.650684', 'Monitor', 89.0)\n",
      "(15, '2020-11-16 21:20:23.671203', 'Monitor', 87.0)\n",
      "(16, '2020-11-16 21:20:24.694641', 'Monitor', 88.0)\n",
      "(17, '2020-11-16 21:20:25.717822', 'Monitor', 65.0)\n",
      "(18, '2020-11-16 21:20:26.742934', 'Monitor', 92.0)\n",
      "(19, '2020-11-16 21:20:27.761394', 'Monitor', 66.0)\n",
      "(20, '2020-11-16 21:20:28.773829', 'Monitor', 64.0)\n"
     ]
    }
   ],
   "source": [
    "# Select nos dados\n",
    "leitura_todos_dados()"
   ]
  },
  {
   "cell_type": "code",
   "execution_count": 21,
   "metadata": {},
   "outputs": [
    {
     "name": "stdout",
     "output_type": "stream",
     "text": [
      "(10, '2018-05-02 14:32:11', 'Teclado', 90.0)\n",
      "(12, '2020-11-16 21:20:20.611523', 'Monitor', 71.0)\n",
      "(13, '2020-11-16 21:20:21.625544', 'Monitor', 77.0)\n",
      "(14, '2020-11-16 21:20:22.650684', 'Monitor', 89.0)\n",
      "(15, '2020-11-16 21:20:23.671203', 'Monitor', 87.0)\n",
      "(16, '2020-11-16 21:20:24.694641', 'Monitor', 88.0)\n",
      "(17, '2020-11-16 21:20:25.717822', 'Monitor', 65.0)\n",
      "(18, '2020-11-16 21:20:26.742934', 'Monitor', 92.0)\n",
      "(19, '2020-11-16 21:20:27.761394', 'Monitor', 66.0)\n",
      "(20, '2020-11-16 21:20:28.773829', 'Monitor', 64.0)\n"
     ]
    }
   ],
   "source": [
    "# Leitura de registros específicos\n",
    "leitura_registros()"
   ]
  },
  {
   "cell_type": "code",
   "execution_count": 22,
   "metadata": {},
   "outputs": [
    {
     "name": "stdout",
     "output_type": "stream",
     "text": [
      "90.0\n",
      "59.0\n",
      "71.0\n",
      "77.0\n",
      "89.0\n",
      "87.0\n",
      "88.0\n",
      "65.0\n",
      "92.0\n",
      "66.0\n",
      "64.0\n"
     ]
    }
   ],
   "source": [
    "# Leitura de colunas específicas\n",
    "leitura_colunas()"
   ]
  },
  {
   "cell_type": "code",
   "execution_count": 23,
   "metadata": {},
   "outputs": [],
   "source": [
    "# Encerrando a conexão\n",
    "c.close()\n",
    "conn.close()"
   ]
  },
  {
   "cell_type": "markdown",
   "metadata": {},
   "source": [
    "### Update e Delete em SQLite"
   ]
  },
  {
   "cell_type": "code",
   "execution_count": 35,
   "metadata": {},
   "outputs": [],
   "source": [
    "import sqlite3\n",
    "import random\n",
    "import time\n",
    "import datetime\n",
    "\n",
    "# Criando uma conexão\n",
    "conn = sqlite3.connect('dsa.db')\n",
    "\n",
    "# Criando um cursor\n",
    "c = conn.cursor()\n",
    "\n",
    "# Função para criar uma tabela\n",
    "def create_table():\n",
    "    c.execute('CREATE TABLE IF NOT EXISTS produtos(id INTEGER PRIMARY KEY AUTOINCREMENT NOT NULL, date TEXT, '\\\n",
    "              'prod_name TEXT, valor REAL)')\n",
    "\n",
    "# Função para inserir uma linha\n",
    "def data_insert():\n",
    "    c.execute('INSERT INTO produtos VALUES(10, \"2018-05-02 14:32:11\", \"Teclado\", 130 )')\n",
    "    conn.commit()\n",
    "    c.close()\n",
    "    conn.close()\n",
    "\n",
    "# Usando variáveis para inserir dados\n",
    "def data_insert_var():\n",
    "    new_date = datetime.datetime.now()\n",
    "    new_prod_name = 'Monitor'\n",
    "    new_valor = random.randrange(50,100)\n",
    "    c.execute('INSERT INTO produtos (date, prod_name, valor) VALUES (?, ?, ?)',\n",
    "              (new_date, new_prod_name, new_valor))\n",
    "    conn.commit()\n",
    "    \n",
    "# Leitura de dados\n",
    "def leitura_todos_dados():\n",
    "    c.execute('SELECT * FROM PRODUTOS')\n",
    "    for linha in c.fetchall():\n",
    "        print(linha)\n",
    "\n",
    "# Leitura de resgistros específicos\n",
    "def leitura_registros():\n",
    "    c.execute('SELECT * FROM PRODUTOS WHERE valor > 60.0')\n",
    "    for linha in c.fetchall():\n",
    "        print(linha)\n",
    "        \n",
    "# Leitura de colunas específicas\n",
    "def leitura_colunas():\n",
    "    c.execute('SELECT * FROM PRODUTOS')\n",
    "    for linha in c.fetchall():\n",
    "        # lembrando que a coluna numero 4 será lida, pois ela possui indice 3\n",
    "        print(linha[3])\n",
    "        \n",
    "# Update\n",
    "def atualiza_dados():\n",
    "    c.execute('UPDATE produtos SET valor = 70.00 where valor = 59.0')\n",
    "    conn.commit()\n",
    "    \n",
    "# Delete\n",
    "def remove_dados():\n",
    "    c.execute('DELETE FROM produtos WHERE valor = 70.0')\n",
    "    conn.commit()"
   ]
  },
  {
   "cell_type": "code",
   "execution_count": 36,
   "metadata": {},
   "outputs": [],
   "source": [
    "atualiza_dados()"
   ]
  },
  {
   "cell_type": "code",
   "execution_count": 37,
   "metadata": {},
   "outputs": [
    {
     "name": "stdout",
     "output_type": "stream",
     "text": [
      "(10, '2018-05-02 14:32:11', 'Teclado', 90.0)\n",
      "(11, '2020-11-16 21:20:19.599683', 'Monitor', 70.0)\n",
      "(12, '2020-11-16 21:20:20.611523', 'Monitor', 71.0)\n",
      "(13, '2020-11-16 21:20:21.625544', 'Monitor', 77.0)\n",
      "(14, '2020-11-16 21:20:22.650684', 'Monitor', 89.0)\n",
      "(15, '2020-11-16 21:20:23.671203', 'Monitor', 87.0)\n",
      "(16, '2020-11-16 21:20:24.694641', 'Monitor', 88.0)\n",
      "(17, '2020-11-16 21:20:25.717822', 'Monitor', 65.0)\n",
      "(18, '2020-11-16 21:20:26.742934', 'Monitor', 92.0)\n",
      "(19, '2020-11-16 21:20:27.761394', 'Monitor', 66.0)\n",
      "(20, '2020-11-16 21:20:28.773829', 'Monitor', 64.0)\n"
     ]
    }
   ],
   "source": [
    "leitura_todos_dados()"
   ]
  },
  {
   "cell_type": "code",
   "execution_count": 38,
   "metadata": {},
   "outputs": [],
   "source": [
    "remove_dados()"
   ]
  },
  {
   "cell_type": "code",
   "execution_count": 39,
   "metadata": {},
   "outputs": [
    {
     "name": "stdout",
     "output_type": "stream",
     "text": [
      "(10, '2018-05-02 14:32:11', 'Teclado', 90.0)\n",
      "(12, '2020-11-16 21:20:20.611523', 'Monitor', 71.0)\n",
      "(13, '2020-11-16 21:20:21.625544', 'Monitor', 77.0)\n",
      "(14, '2020-11-16 21:20:22.650684', 'Monitor', 89.0)\n",
      "(15, '2020-11-16 21:20:23.671203', 'Monitor', 87.0)\n",
      "(16, '2020-11-16 21:20:24.694641', 'Monitor', 88.0)\n",
      "(17, '2020-11-16 21:20:25.717822', 'Monitor', 65.0)\n",
      "(18, '2020-11-16 21:20:26.742934', 'Monitor', 92.0)\n",
      "(19, '2020-11-16 21:20:27.761394', 'Monitor', 66.0)\n",
      "(20, '2020-11-16 21:20:28.773829', 'Monitor', 64.0)\n"
     ]
    }
   ],
   "source": [
    "leitura_todos_dados()"
   ]
  }
 ],
 "metadata": {
  "kernelspec": {
   "display_name": "Python 3",
   "language": "python",
   "name": "python3"
  },
  "language_info": {
   "codemirror_mode": {
    "name": "ipython",
    "version": 3
   },
   "file_extension": ".py",
   "mimetype": "text/x-python",
   "name": "python",
   "nbconvert_exporter": "python",
   "pygments_lexer": "ipython3",
   "version": "3.8.3"
  }
 },
 "nbformat": 4,
 "nbformat_minor": 4
}
